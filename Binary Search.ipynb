{
 "cells": [
  {
   "cell_type": "code",
   "execution_count": 1,
   "id": "a9aea562",
   "metadata": {},
   "outputs": [],
   "source": [
    "#purpose: Binary Search\n",
    "#concept: Find and Compare the middle element of our sorted array and if they are not equal go for left list of the middle if x is less then middle or else goto right list of middle\n"
   ]
  },
  {
   "cell_type": "code",
   "execution_count": null,
   "id": "14c5291f",
   "metadata": {},
   "outputs": [],
   "source": [
    "#code\n",
    "def binarySearch (arr, l, r, x):\n",
    "    if r >= l:\n",
    "        mid = l + (r - l) // 2\n",
    "        if arr[mid] == x:\n",
    "            return mid\n",
    "        elif arr[mid] > x:\n",
    "            return binarySearch(arr, l, mid-1, x)\n",
    "  \n",
    "        else:\n",
    "            return binarySearch(arr, mid + 1, r, x)\n",
    "  \n",
    "    else:\n",
    "       \n",
    "        return -1\n",
    "  \n",
    "\n",
    "arr = [ 2, 3, 4, 10, 40 ]\n",
    "x = 10\n",
    "  \n",
    "\n",
    "result = binarySearch(arr, 0, len(arr)-1, x)\n",
    "  \n",
    "if result != -1:\n",
    "    print (\"Element is present at index % d\" % result)\n",
    "else:\n",
    "    print (\"Element is not present in array\")"
   ]
  }
 ],
 "metadata": {
  "kernelspec": {
   "display_name": "Python 3",
   "language": "python",
   "name": "python3"
  },
  "language_info": {
   "codemirror_mode": {
    "name": "ipython",
    "version": 3
   },
   "file_extension": ".py",
   "mimetype": "text/x-python",
   "name": "python",
   "nbconvert_exporter": "python",
   "pygments_lexer": "ipython3",
   "version": "3.8.5"
  }
 },
 "nbformat": 4,
 "nbformat_minor": 5
}
