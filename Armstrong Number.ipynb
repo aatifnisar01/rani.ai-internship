{
 "cells": [
  {
   "cell_type": "code",
   "execution_count": 1,
   "id": "d10cbfca",
   "metadata": {},
   "outputs": [
    {
     "name": "stdout",
     "output_type": "stream",
     "text": [
      "Enter a number: 53\n",
      "53 is not an Armstrong number\n"
     ]
    }
   ],
   "source": [
    "#purpose: To check weather a number is armstrong number or not i.e abcd... = an + bn + cn + dn + ...\n",
    "#Concept: We need to calculate the sum of the cube of each digit"
   ]
  },
  {
   "cell_type": "code",
   "execution_count": null,
   "id": "f4bbeeaa",
   "metadata": {},
   "outputs": [],
   "source": [
    "#code\n",
    "n = int(input(\"Enter a number: \"))\n",
    "sum = 0\n",
    "temp = n\n",
    "while temp > 0:\n",
    "   digit = temp % 10\n",
    "   sum += digit ** 3\n",
    "   temp //= 10\n",
    "if n == sum:\n",
    "   print(n,\"is an Armstrong number\")\n",
    "else:\n",
    "   print(n,\"is not an Armstrong number\")"
   ]
  }
 ],
 "metadata": {
  "kernelspec": {
   "display_name": "Python 3",
   "language": "python",
   "name": "python3"
  },
  "language_info": {
   "codemirror_mode": {
    "name": "ipython",
    "version": 3
   },
   "file_extension": ".py",
   "mimetype": "text/x-python",
   "name": "python",
   "nbconvert_exporter": "python",
   "pygments_lexer": "ipython3",
   "version": "3.8.5"
  }
 },
 "nbformat": 4,
 "nbformat_minor": 5
}
