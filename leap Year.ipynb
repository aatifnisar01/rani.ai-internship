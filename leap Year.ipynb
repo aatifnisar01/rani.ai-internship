{
 "cells": [
  {
   "cell_type": "code",
   "execution_count": 1,
   "id": "c93ecd7d",
   "metadata": {},
   "outputs": [
    {
     "name": "stdout",
     "output_type": "stream",
     "text": [
      "Enter the year2023\n",
      "2023 is not a leap year\n"
     ]
    }
   ],
   "source": [
    "#Purpose: This code Checks weather a year is a leap year or not\n",
    "#Concept: For a year to be a leap year, it should be divisble by 4,100 and 400."
   ]
  },
  {
   "cell_type": "code",
   "execution_count": null,
   "id": "f17311ab",
   "metadata": {},
   "outputs": [],
   "source": [
    "#code\n",
    "n = int(input(\"Enter the year\"))  \n",
    "if (n% 4) == 0:  \n",
    "   if (n% 100) == 0:  \n",
    "       if (n% 400) == 0:  \n",
    "           print(\"{0} is a leap year\".format(n))  \n",
    "       else:  \n",
    "           print(\"{0} is not a leap year\".format(n))  \n",
    "   else:  \n",
    "       print(\"{0} is a leap year\".format(n))  \n",
    "else:  \n",
    "   print(\"{0} is not a leap year\".format(n))  "
   ]
  },
  {
   "cell_type": "code",
   "execution_count": null,
   "id": "17f45574",
   "metadata": {},
   "outputs": [],
   "source": []
  },
  {
   "cell_type": "code",
   "execution_count": null,
   "id": "bce3000e",
   "metadata": {},
   "outputs": [],
   "source": []
  }
 ],
 "metadata": {
  "kernelspec": {
   "display_name": "Python 3",
   "language": "python",
   "name": "python3"
  },
  "language_info": {
   "codemirror_mode": {
    "name": "ipython",
    "version": 3
   },
   "file_extension": ".py",
   "mimetype": "text/x-python",
   "name": "python",
   "nbconvert_exporter": "python",
   "pygments_lexer": "ipython3",
   "version": "3.8.5"
  }
 },
 "nbformat": 4,
 "nbformat_minor": 5
}
